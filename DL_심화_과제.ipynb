{
 "cells": [
  {
   "cell_type": "code",
   "execution_count": 1,
   "metadata": {},
   "outputs": [],
   "source": [
    "import numpy as np\n",
    "import tensorflow as tf\n",
    "import matplotlib.pyplot as plt\n",
    "from PIL import Image\n",
    "%matplotlib inline"
   ]
  },
  {
   "cell_type": "code",
   "execution_count": 2,
   "metadata": {},
   "outputs": [],
   "source": [
    "(x_train, y_train), (x_test, y_test) = tf.keras.datasets.mnist.load_data()"
   ]
  },
  {
   "cell_type": "code",
   "execution_count": 3,
   "metadata": {},
   "outputs": [
    {
     "data": {
      "text/plain": [
       "((60000, 28, 28, 1), (10000, 28, 28, 1))"
      ]
     },
     "execution_count": 3,
     "metadata": {},
     "output_type": "execute_result"
    }
   ],
   "source": [
    "x_train = np.reshape(x_train, (-1,28,28,1))   #-1의 의미 : 뒤에를 28*28*1로 고정 나머지 계산 처리\n",
    "x_test = np.reshape(x_test, (-1,28,28,1))\n",
    "x_train.shape, x_test.shape   #흑백사진이므로 Channel 수가 1임"
   ]
  },
  {
   "cell_type": "code",
   "execution_count": 4,
   "metadata": {},
   "outputs": [
    {
     "data": {
      "text/plain": [
       "((60000, 10), (10000, 10))"
      ]
     },
     "execution_count": 4,
     "metadata": {},
     "output_type": "execute_result"
    }
   ],
   "source": [
    "y_train = tf.keras.utils.to_categorical(y_train, 10)\n",
    "y_test = tf.keras.utils.to_categorical(y_test, 10)\n",
    "y_train.shape, y_test.shape  #to_ategoircal : ㅒOne hot Encoding 해주는 기능"
   ]
  },
  {
   "cell_type": "code",
   "execution_count": 11,
   "metadata": {},
   "outputs": [
    {
     "name": "stdout",
     "output_type": "stream",
     "text": [
      "[0. 0. 0. 0. 1. 0. 0. 0. 0. 0.]\n"
     ]
    },
    {
     "data": {
      "text/plain": [
       "<matplotlib.image.AxesImage at 0x21b2cff2fd0>"
      ]
     },
     "execution_count": 11,
     "metadata": {},
     "output_type": "execute_result"
    },
    {
     "data": {
      "image/png": "[encoded data removed]",
      "text/plain": [
       "<Figure size 432x288 with 1 Axes>"
      ]
     },
     "metadata": {
      "needs_background": "light"
     },
     "output_type": "display_data"
    }
   ],
   "source": [
    "i = np.random.randint(1000)\n",
    "print(y_train[i])\n",
    "plt.imshow(x_train[i], cmap='gray')"
   ]
  },
  {
   "cell_type": "code",
   "execution_count": 18,
   "metadata": {},
   "outputs": [],
   "source": [
    "datagen = tf.keras.preprocessing.image.ImageDataGenerator(\n",
    "    rotation_range = 20,\n",
    "    width_shift_range = 0.1,\n",
    "    height_shift_range = 0.1,\n",
    "    validation_split = 0.25\n",
    ")\n",
    "\n",
    "datagen.fit(x_train)"
   ]
  },
  {
   "cell_type": "code",
   "execution_count": 60,
   "metadata": {},
   "outputs": [
    {
     "name": "stdout",
     "output_type": "stream",
     "text": [
      "Model: \"sequential_22\"\n",
      "_________________________________________________________________\n",
      "Layer (type)                 Output Shape              Param #   \n",
      "=================================================================\n",
      "conv2d_63 (Conv2D)           (None, 25, 25, 40)        680       \n",
      "_________________________________________________________________\n",
      "max_pooling2d_63 (MaxPooling (None, 12, 12, 40)        0         \n",
      "_________________________________________________________________\n",
      "dropout_25 (Dropout)         (None, 12, 12, 40)        0         \n",
      "_________________________________________________________________\n",
      "conv2d_64 (Conv2D)           (None, 11, 11, 40)        6440      \n",
      "_________________________________________________________________\n",
      "max_pooling2d_64 (MaxPooling (None, 5, 5, 40)          0         \n",
      "_________________________________________________________________\n",
      "dropout_26 (Dropout)         (None, 5, 5, 40)          0         \n",
      "_________________________________________________________________\n",
      "conv2d_65 (Conv2D)           (None, 4, 4, 40)          6440      \n",
      "_________________________________________________________________\n",
      "max_pooling2d_65 (MaxPooling (None, 2, 2, 40)          0         \n",
      "_________________________________________________________________\n",
      "dropout_27 (Dropout)         (None, 2, 2, 40)          0         \n",
      "_________________________________________________________________\n",
      "flatten_43 (Flatten)         (None, 160)               0         \n",
      "_________________________________________________________________\n",
      "dense_43 (Dense)             (None, 100)               16100     \n",
      "_________________________________________________________________\n",
      "flatten_44 (Flatten)         (None, 100)               0         \n",
      "_________________________________________________________________\n",
      "dense_44 (Dense)             (None, 10)                1010      \n",
      "=================================================================\n",
      "Total params: 30,670\n",
      "Trainable params: 30,670\n",
      "Non-trainable params: 0\n",
      "_________________________________________________________________\n"
     ]
    }
   ],
   "source": [
    "dropout_rate = 0.2\n",
    "\n",
    "model = tf.keras.Sequential([\n",
    "    tf.keras.layers.Conv2D(input_shape=(28,28,1), kernel_size=(4,4), filters=40, activation='relu'),\n",
    "    tf.keras.layers.MaxPool2D(pool_size=(2,2)),\n",
    "    tf.keras.layers.Dropout(dropout_rate),\n",
    "    tf.keras.layers.Conv2D(kernel_size=(2,2), filters=40, activation='relu'),\n",
    "    tf.keras.layers.MaxPool2D(pool_size=(2,2)),\n",
    "    tf.keras.layers.Dropout(dropout_rate),\n",
    "    tf.keras.layers.Conv2D(kernel_size=(2,2), filters=40, activation='relu'),\n",
    "    tf.keras.layers.MaxPool2D(pool_size=(2,2)),\n",
    "    tf.keras.layers.Dropout(dropout_rate),\n",
    "    tf.keras.layers.Flatten(),\n",
    "    tf.keras.layers.Dense(units=100, activation='relu'),\n",
    "    tf.keras.layers.Flatten(),\n",
    "    tf.keras.layers.Dense(units=10, activation='softmax')\n",
    "])\n",
    "\n",
    "model.compile(optimizer=tf.keras.optimizers.Adam(), \n",
    "              loss='categorical_crossentropy',\n",
    "              metrics = ['accuracy']\n",
    "             )\n",
    "\n",
    "model.summary()"
   ]
  },
  {
   "cell_type": "code",
   "execution_count": 61,
   "metadata": {},
   "outputs": [
    {
     "name": "stdout",
     "output_type": "stream",
     "text": [
      "Epoch 1/20\n",
      "704/704 [==============================] - 34s 47ms/step - loss: 3.7552 - accuracy: 0.3360 - val_loss: 0.4092 - val_accuracy: 0.8775\n",
      "Epoch 2/20\n",
      "704/704 [==============================] - 31s 44ms/step - loss: 0.5606 - accuracy: 0.8169 - val_loss: 0.2711 - val_accuracy: 0.9182\n",
      "Epoch 3/20\n",
      "704/704 [==============================] - 31s 44ms/step - loss: 0.3849 - accuracy: 0.8753 - val_loss: 0.1928 - val_accuracy: 0.9413\n",
      "Epoch 4/20\n",
      "704/704 [==============================] - 31s 44ms/step - loss: 0.3128 - accuracy: 0.9006 - val_loss: 0.1612 - val_accuracy: 0.9487\n",
      "Epoch 5/20\n",
      "704/704 [==============================] - 31s 44ms/step - loss: 0.2673 - accuracy: 0.9155 - val_loss: 0.1409 - val_accuracy: 0.9584\n",
      "Epoch 6/20\n",
      "704/704 [==============================] - 31s 44ms/step - loss: 0.2260 - accuracy: 0.9288 - val_loss: 0.1225 - val_accuracy: 0.9612\n",
      "Epoch 7/20\n",
      "704/704 [==============================] - 32s 46ms/step - loss: 0.2081 - accuracy: 0.9334 - val_loss: 0.1086 - val_accuracy: 0.9675\n",
      "Epoch 8/20\n",
      "704/704 [==============================] - 31s 45ms/step - loss: 0.1879 - accuracy: 0.9419 - val_loss: 0.0940 - val_accuracy: 0.9703\n",
      "Epoch 9/20\n",
      "704/704 [==============================] - 32s 46ms/step - loss: 0.1810 - accuracy: 0.9437 - val_loss: 0.0940 - val_accuracy: 0.9711\n",
      "Epoch 10/20\n",
      "704/704 [==============================] - 32s 45ms/step - loss: 0.1689 - accuracy: 0.9488 - val_loss: 0.0891 - val_accuracy: 0.9726\n",
      "Epoch 11/20\n",
      "704/704 [==============================] - 33s 46ms/step - loss: 0.1648 - accuracy: 0.9480 - val_loss: 0.0753 - val_accuracy: 0.9761\n",
      "Epoch 12/20\n",
      "704/704 [==============================] - 32s 45ms/step - loss: 0.1539 - accuracy: 0.9521 - val_loss: 0.0780 - val_accuracy: 0.9767\n",
      "Epoch 13/20\n",
      "704/704 [==============================] - 32s 45ms/step - loss: 0.1484 - accuracy: 0.9524 - val_loss: 0.0783 - val_accuracy: 0.9758\n",
      "Epoch 14/20\n",
      "704/704 [==============================] - 33s 47ms/step - loss: 0.1327 - accuracy: 0.9598 - val_loss: 0.0770 - val_accuracy: 0.9769\n",
      "Epoch 15/20\n",
      "704/704 [==============================] - 32s 45ms/step - loss: 0.1417 - accuracy: 0.9569 - val_loss: 0.0702 - val_accuracy: 0.9791\n",
      "Epoch 16/20\n",
      "704/704 [==============================] - 32s 46ms/step - loss: 0.1359 - accuracy: 0.9575 - val_loss: 0.0787 - val_accuracy: 0.9776\n",
      "Epoch 17/20\n",
      "704/704 [==============================] - 33s 47ms/step - loss: 0.1349 - accuracy: 0.9572 - val_loss: 0.0738 - val_accuracy: 0.9783\n",
      "Epoch 18/20\n",
      "704/704 [==============================] - 32s 46ms/step - loss: 0.1287 - accuracy: 0.9603 - val_loss: 0.0658 - val_accuracy: 0.9800\n",
      "Epoch 19/20\n",
      "704/704 [==============================] - 32s 46ms/step - loss: 0.1295 - accuracy: 0.9610 - val_loss: 0.0662 - val_accuracy: 0.9811\n",
      "Epoch 20/20\n",
      "704/704 [==============================] - 32s 46ms/step - loss: 0.1264 - accuracy: 0.9615 - val_loss: 0.0649 - val_accuracy: 0.9799\n"
     ]
    }
   ],
   "source": [
    "train_generator = datagen.flow(x_train, y_train, batch_size = 64, subset = 'training')\n",
    "val_generator = datagen.flow(x_train, y_train, batch_size = 64, subset = 'validation')\n",
    "\n",
    "history = model.fit_generator( train_generator,\n",
    "                               epochs = 20,\n",
    "                               verbose = 1,\n",
    "                               validation_data = val_generator,\n",
    "                               )"
   ]
  },
  {
   "cell_type": "code",
   "execution_count": 62,
   "metadata": {},
   "outputs": [
    {
     "name": "stdout",
     "output_type": "stream",
     "text": [
      "313/313 [==============================] - 2s 6ms/step - loss: 0.0370 - accuracy: 0.9882\n",
      "test loss : 0.03699154034256935 / test accuracy : 0.9882000088691711\n"
     ]
    }
   ],
   "source": [
    "loss, accuracy = model.evaluate(x_test, y_test)\n",
    "print(f'test loss : {loss} / test accuracy : {accuracy}')"
   ]
  },
  {
   "cell_type": "code",
   "execution_count": null,
   "metadata": {},
   "outputs": [],
   "source": []
  }
 ],
 "metadata": {
  "kernelspec": {
   "display_name": "Python 3",
   "language": "python",
   "name": "python3"
  },
  "language_info": {
   "codemirror_mode": {
    "name": "ipython",
    "version": 3
   },
   "file_extension": ".py",
   "mimetype": "text/x-python",
   "name": "python",
   "nbconvert_exporter": "python",
   "pygments_lexer": "ipython3",
   "version": "3.8.5"
  }
 },
 "nbformat": 4,
 "nbformat_minor": 4
}
